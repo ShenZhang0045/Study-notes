{
 "cells": [
  {
   "cell_type": "code",
   "execution_count": 2,
   "id": "cd351dfa",
   "metadata": {},
   "outputs": [
    {
     "ename": "SyntaxError",
     "evalue": "illegal target for annotation (<ipython-input-2-7e5c03c779df>, line 1)",
     "output_type": "error",
     "traceback": [
      "\u001b[0;36m  File \u001b[0;32m\"<ipython-input-2-7e5c03c779df>\"\u001b[0;36m, line \u001b[0;32m1\u001b[0m\n\u001b[0;31m    1:5\u001b[0m\n\u001b[0m    ^\u001b[0m\n\u001b[0;31mSyntaxError\u001b[0m\u001b[0;31m:\u001b[0m illegal target for annotation\n"
     ]
    }
   ],
   "source": [
    "1:5"
   ]
  },
  {
   "cell_type": "code",
   "execution_count": 4,
   "id": "e26944a5",
   "metadata": {},
   "outputs": [
    {
     "data": {
      "text/plain": [
       "True"
      ]
     },
     "execution_count": 4,
     "metadata": {},
     "output_type": "execute_result"
    }
   ],
   "source": [
    "(9 < 10 and 10 <100) or (10 > 999 and 10 < 10000)"
   ]
  },
  {
   "cell_type": "code",
   "execution_count": 15,
   "id": "7a8394db",
   "metadata": {},
   "outputs": [
    {
     "name": "stdout",
     "output_type": "stream",
     "text": [
      "[10, 9, 8, 7, 6, 5, 4, 3, 2, 1, 0]\n"
     ]
    }
   ],
   "source": [
    "print(list(range(10,-1,-1)))"
   ]
  },
  {
   "cell_type": "code",
   "execution_count": 6,
   "id": "83162c78",
   "metadata": {},
   "outputs": [
    {
     "name": "stdout",
     "output_type": "stream",
     "text": [
      "[1, 2, 3, 0, 0, 0]\n"
     ]
    }
   ],
   "source": [
    "nums1 = [1,2,3,0,0,0]\n",
    "m = 3\n",
    "nums2 = [2,5,6]\n",
    "n = 3\n",
    "i,j = m-1, n-1\n",
    "print(nums1)"
   ]
  },
  {
   "cell_type": "code",
   "execution_count": 8,
   "id": "a9f47f7d",
   "metadata": {},
   "outputs": [
    {
     "name": "stdout",
     "output_type": "stream",
     "text": [
      "[5, 4, 3, 2, 1, 0, -1, -2]\n"
     ]
    }
   ],
   "source": [
    "print(list(range(n+m-1, -3, -1)))"
   ]
  },
  {
   "cell_type": "code",
   "execution_count": 32,
   "id": "668cae9e",
   "metadata": {},
   "outputs": [
    {
     "data": {
      "text/plain": [
       "True"
      ]
     },
     "execution_count": 32,
     "metadata": {},
     "output_type": "execute_result"
    }
   ],
   "source": [
    "i > -1 and j > -1"
   ]
  },
  {
   "cell_type": "code",
   "execution_count": 33,
   "id": "980f1cd3",
   "metadata": {},
   "outputs": [
    {
     "data": {
      "text/plain": [
       "True"
      ]
     },
     "execution_count": 33,
     "metadata": {},
     "output_type": "execute_result"
    }
   ],
   "source": [
    "nums1[i] < nums2[j]"
   ]
  },
  {
   "cell_type": "code",
   "execution_count": 11,
   "id": "817cfd0f",
   "metadata": {},
   "outputs": [],
   "source": [
    "nums1[i] = nums2[j]"
   ]
  },
  {
   "cell_type": "code",
   "execution_count": 37,
   "id": "78f903dc",
   "metadata": {},
   "outputs": [
    {
     "name": "stdout",
     "output_type": "stream",
     "text": [
      "5\n",
      "4\n",
      "3\n",
      "2\n",
      "1\n",
      "0\n"
     ]
    }
   ],
   "source": [
    "for k in range(n+m-1, -1, -1):\n",
    "    print(k)"
   ]
  },
  {
   "cell_type": "code",
   "execution_count": 38,
   "id": "6e4a4d72",
   "metadata": {},
   "outputs": [],
   "source": [
    "k = 5"
   ]
  },
  {
   "cell_type": "code",
   "execution_count": null,
   "id": "789b2777",
   "metadata": {},
   "outputs": [],
   "source": [
    "while i > -1 and j > -1:\n",
    "                if nums1[i] < nums2[j]:\n",
    "                    nums1[k] = nums2[j]\n",
    "                    j -= 1\n",
    "                else:\n",
    "                    nums1[k] = nums1[i]\n",
    "                    i -= 1"
   ]
  },
  {
   "cell_type": "code",
   "execution_count": 14,
   "id": "6fe185d9",
   "metadata": {},
   "outputs": [
    {
     "data": {
      "text/plain": [
       "1"
      ]
     },
     "execution_count": 14,
     "metadata": {},
     "output_type": "execute_result"
    }
   ],
   "source": [
    "(1+2)//2"
   ]
  },
  {
   "cell_type": "code",
   "execution_count": 7,
   "id": "b860d0ab",
   "metadata": {},
   "outputs": [
    {
     "data": {
      "text/plain": [
       "[5, 6, 7]"
      ]
     },
     "execution_count": 7,
     "metadata": {},
     "output_type": "execute_result"
    }
   ],
   "source": [
    "nums = [1,2,3,4,5,6,7]\n",
    "nums[: -3]\n",
    "nums[-3:]"
   ]
  },
  {
   "cell_type": "code",
   "execution_count": 5,
   "id": "e77a10e8",
   "metadata": {
    "scrolled": true
   },
   "outputs": [
    {
     "data": {
      "text/plain": [
       "1"
      ]
     },
     "execution_count": 5,
     "metadata": {},
     "output_type": "execute_result"
    }
   ],
   "source": [
    "(4 - 3)%7"
   ]
  },
  {
   "cell_type": "code",
   "execution_count": null,
   "id": "2ba3f8ce",
   "metadata": {},
   "outputs": [],
   "source": [
    "temp = nums[:]"
   ]
  },
  {
   "cell_type": "code",
   "execution_count": 14,
   "id": "1dc2c916",
   "metadata": {},
   "outputs": [
    {
     "name": "stdout",
     "output_type": "stream",
     "text": [
      "range(0, 10)\n"
     ]
    }
   ],
   "source": [
    "a = range(0,10)\n"
   ]
  },
  {
   "cell_type": "code",
   "execution_count": null,
   "id": "eb62eb89",
   "metadata": {},
   "outputs": [],
   "source": [
    "m.append(R[j])"
   ]
  },
  {
   "cell_type": "code",
   "execution_count": null,
   "id": "e9502d4e",
   "metadata": {},
   "outputs": [],
   "source": [
    "m.extend(L[i:])"
   ]
  },
  {
   "cell_type": "code",
   "execution_count": null,
   "id": "49495dd8",
   "metadata": {},
   "outputs": [],
   "source": [
    "m = []"
   ]
  },
  {
   "cell_type": "code",
   "execution_count": 3,
   "id": "56afb4c3",
   "metadata": {},
   "outputs": [
    {
     "name": "stderr",
     "output_type": "stream",
     "text": [
      "/opt/anaconda3/lib/python3.8/site-packages/seaborn/distributions.py:2557: FutureWarning: `distplot` is a deprecated function and will be removed in a future version. Please adapt your code to use either `displot` (a figure-level function with similar flexibility) or `histplot` (an axes-level function for histograms).\n",
      "  warnings.warn(msg, FutureWarning)\n",
      "/opt/anaconda3/lib/python3.8/site-packages/seaborn/distributions.py:306: UserWarning: Dataset has 0 variance; skipping density estimate.\n",
      "  warnings.warn(msg, UserWarning)\n"
     ]
    },
    {
     "data": {
      "image/png": "[encoded data removed]",
      "text/plain": [
       "<Figure size 432x288 with 1 Axes>"
      ]
     },
     "metadata": {
      "needs_background": "light"
     },
     "output_type": "display_data"
    }
   ],
   "source": [
    "import matplotlib.pyplot as plt\n",
    "import seaborn as sns\n",
    "\n",
    "sns.distplot([0, 0, 0, 0])\n",
    "\n",
    "plt.show()"
   ]
  },
  {
   "cell_type": "code",
   "execution_count": null,
   "id": "ae58566f",
   "metadata": {},
   "outputs": [],
   "source": []
  }
 ],
 "metadata": {
  "kernelspec": {
   "display_name": "Python 3",
   "language": "python",
   "name": "python3"
  },
  "language_info": {
   "codemirror_mode": {
    "name": "ipython",
    "version": 3
   },
   "file_extension": ".py",
   "mimetype": "text/x-python",
   "name": "python",
   "nbconvert_exporter": "python",
   "pygments_lexer": "ipython3",
   "version": "3.8.8"
  }
 },
 "nbformat": 4,
 "nbformat_minor": 5
}
